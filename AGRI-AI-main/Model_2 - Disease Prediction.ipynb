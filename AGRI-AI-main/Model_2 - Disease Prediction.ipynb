{
 "cells": [
  {
   "cell_type": "code",
   "execution_count": 11,
   "id": "c32e05e4",
   "metadata": {},
   "outputs": [
    {
     "name": "stdout",
     "output_type": "stream",
     "text": [
      "[WinError 3] The system cannot find the path specified: 'C:/Users/TOSHIBA/Desktop/Plant-Disease-Detection-main/Flask_Deployed_App'\n",
      "c:\\Users\\SAI AKHIL\\Desktop\\agri_genai\\AGRI-AI-main\n"
     ]
    }
   ],
   "source": [
    "%cd C:/Users/TOSHIBA/Desktop/Plant-Disease-Detection-main/Flask_Deployed_App"
   ]
  },
  {
   "cell_type": "code",
   "execution_count": 12,
   "id": "9293ac89",
   "metadata": {},
   "outputs": [],
   "source": [
    "import os\n",
    "from PIL import Image\n",
    "import torchvision.transforms.functional as TF\n",
    "import cnn\n",
    "import numpy as np\n",
    "import torch\n",
    "import pandas as pd\n",
    "\n"
   ]
  },
  {
   "cell_type": "code",
   "execution_count": 19,
   "id": "c892f7aa",
   "metadata": {},
   "outputs": [
    {
     "ename": "AttributeError",
     "evalue": "'CNN' object has no attribute 'summary'",
     "output_type": "error",
     "traceback": [
      "\u001b[1;31m---------------------------------------------------------------------------\u001b[0m",
      "\u001b[1;31mAttributeError\u001b[0m                            Traceback (most recent call last)",
      "Cell \u001b[1;32mIn[19], line 6\u001b[0m\n\u001b[0;32m      4\u001b[0m model \u001b[38;5;241m=\u001b[39m cnn\u001b[38;5;241m.\u001b[39mCNN(\u001b[38;5;241m39\u001b[39m)    \n\u001b[0;32m      5\u001b[0m \u001b[38;5;66;03m#model.load_state_dict(torch.load(\"plant_disease_model_1_latest.pt\"))\u001b[39;00m\n\u001b[1;32m----> 6\u001b[0m \u001b[43mmodel\u001b[49m\u001b[38;5;241;43m.\u001b[39;49m\u001b[43msummary\u001b[49m()\n",
      "File \u001b[1;32mc:\\Users\\SAI AKHIL\\AppData\\Local\\Programs\\Python\\Python38\\lib\\site-packages\\torch\\nn\\modules\\module.py:1729\u001b[0m, in \u001b[0;36mModule.__getattr__\u001b[1;34m(self, name)\u001b[0m\n\u001b[0;32m   1727\u001b[0m     \u001b[38;5;28;01mif\u001b[39;00m name \u001b[38;5;129;01min\u001b[39;00m modules:\n\u001b[0;32m   1728\u001b[0m         \u001b[38;5;28;01mreturn\u001b[39;00m modules[name]\n\u001b[1;32m-> 1729\u001b[0m \u001b[38;5;28;01mraise\u001b[39;00m \u001b[38;5;167;01mAttributeError\u001b[39;00m(\u001b[38;5;124mf\u001b[39m\u001b[38;5;124m\"\u001b[39m\u001b[38;5;124m'\u001b[39m\u001b[38;5;132;01m{\u001b[39;00m\u001b[38;5;28mtype\u001b[39m(\u001b[38;5;28mself\u001b[39m)\u001b[38;5;241m.\u001b[39m\u001b[38;5;18m__name__\u001b[39m\u001b[38;5;132;01m}\u001b[39;00m\u001b[38;5;124m'\u001b[39m\u001b[38;5;124m object has no attribute \u001b[39m\u001b[38;5;124m'\u001b[39m\u001b[38;5;132;01m{\u001b[39;00mname\u001b[38;5;132;01m}\u001b[39;00m\u001b[38;5;124m'\u001b[39m\u001b[38;5;124m\"\u001b[39m)\n",
      "\u001b[1;31mAttributeError\u001b[0m: 'CNN' object has no attribute 'summary'"
     ]
    }
   ],
   "source": [
    "\n",
    "disease_info = pd.read_csv('disease_info.csv' , encoding='cp1252')\n",
    "supplement_info = pd.read_csv('supplement_info.csv',encoding='cp1252')\n",
    "\n",
    "model = cnn.CNN(39)    \n",
    "#model.load_state_dict(torch.load(\"plant_disease_model_1_latest.pt\"))\n",
    "model.summary()\n",
    "\n"
   ]
  },
  {
   "cell_type": "code",
   "execution_count": 23,
   "id": "a6607b60",
   "metadata": {},
   "outputs": [],
   "source": [
    "def prediction(image_path):\n",
    "    image = Image.open(image_path)\n",
    "    image = image.resize((224, 224))\n",
    "    input_data = TF.to_tensor(image)\n",
    "    input_data = input_data.view((-1, 3, 224, 224))\n",
    "    output = model(input_data)\n",
    "    output = output.detach().numpy()\n",
    "    index = np.argmax(output)\n",
    "    return index"
   ]
  },
  {
   "cell_type": "code",
   "execution_count": null,
   "id": "77aad7af",
   "metadata": {},
   "outputs": [],
   "source": []
  },
  {
   "cell_type": "code",
   "execution_count": 24,
   "id": "943d542a",
   "metadata": {},
   "outputs": [],
   "source": [
    "file_path=r\"C:\\Users\\SAI AKHIL\\Downloads\\unsplash.jpg\""
   ]
  },
  {
   "cell_type": "code",
   "execution_count": 25,
   "id": "8c9b6f56",
   "metadata": {},
   "outputs": [],
   "source": [
    "pred = prediction(file_path)\n",
    "title = disease_info['disease_name'][pred]\n",
    "description =disease_info['description'][pred]\n",
    "prevent = disease_info['Possible Steps'][pred]\n",
    "image_url = disease_info['image_url'][pred]\n",
    "supplement_name = supplement_info['supplement name'][pred]\n",
    "supplement_image_url = supplement_info['supplement image'][pred]\n",
    "supplement_buy_link = supplement_info['buy link'][pred]"
   ]
  },
  {
   "cell_type": "code",
   "execution_count": null,
   "id": "e1187c73",
   "metadata": {},
   "outputs": [
    {
     "name": "stdout",
     "output_type": "stream",
     "text": [
      "24\n",
      "Water one inch per week from spring until after harvest. Regular watering is better than infrequent deep soaking. Keep your raspberry bushes tidy by digging up any “suckers” or canes that grow well away from the rows; if you don't dig them up, they'll draw nutrients away and you'll have less berries next year.\n"
     ]
    }
   ],
   "source": [
    "print(pred)\n",
    "print(description)\n"
   ]
  },
  {
   "cell_type": "code",
   "execution_count": 26,
   "id": "555a1f6a",
   "metadata": {},
   "outputs": [
    {
     "name": "stdout",
     "output_type": "stream",
     "text": [
      "Pepper bell : Healthy\n"
     ]
    }
   ],
   "source": [
    "print(title)"
   ]
  },
  {
   "cell_type": "code",
   "execution_count": 27,
   "id": "b9c63962",
   "metadata": {},
   "outputs": [
    {
     "name": "stdout",
     "output_type": "stream",
     "text": [
      "https://www.healthbenefitstimes.com/9/gallery/bell-peppers/Bell-pepper-leaves.jpg\n"
     ]
    }
   ],
   "source": [
    "print(image_url)"
   ]
  },
  {
   "cell_type": "code",
   "execution_count": 28,
   "id": "38a4bb23",
   "metadata": {},
   "outputs": [
    {
     "data": {
      "text/plain": [
       "'https://www.casagardenshop.com/products/organic-potash-fertilizer-for-gardening-improves-size-of-flowers-fruits-and-vegetables-by-casa-de-amor-1-kg-1?variant=40073291088&currency=INR&utm_medium=product_sync&utm_source=google&utm_content=sag_organic&utm_campaign=sag_organic&utm_campaign=gs-2020-02-08&utm_source=google&utm_medium=smart_campaign'"
      ]
     },
     "execution_count": 28,
     "metadata": {},
     "output_type": "execute_result"
    }
   ],
   "source": [
    "supplement_buy_link\n"
   ]
  },
  {
   "cell_type": "code",
   "execution_count": null,
   "id": "f8f434a0",
   "metadata": {},
   "outputs": [],
   "source": []
  }
 ],
 "metadata": {
  "kernelspec": {
   "display_name": "Python 3",
   "language": "python",
   "name": "python3"
  },
  "language_info": {
   "codemirror_mode": {
    "name": "ipython",
    "version": 3
   },
   "file_extension": ".py",
   "mimetype": "text/x-python",
   "name": "python",
   "nbconvert_exporter": "python",
   "pygments_lexer": "ipython3",
   "version": "3.8.10"
  }
 },
 "nbformat": 4,
 "nbformat_minor": 5
}
